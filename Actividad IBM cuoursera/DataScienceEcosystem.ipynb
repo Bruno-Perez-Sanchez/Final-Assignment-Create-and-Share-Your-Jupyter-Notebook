{
 "cells": [
  {
   "cell_type": "markdown",
   "id": "f98d45e6-7b8d-401b-b713-d0a05a435f6a",
   "metadata": {},
   "source": [
    "<center>\n",
    "    <img src=\"https://cf-courses-data.s3.us.cloud-object-storage.appdomain.cloud/IBMDeveloperSkillsNetwork-DS0105EN-SkillsNetwork/labs/Module2/images/SN_web_lightmode.png\" width=\"300\" alt=\"cognitiveclass.ai logo\">\n",
    "</center>\n"
   ]
  },
  {
   "cell_type": "markdown",
   "id": "bce43bbc-d699-4827-9a83-d3f4c7c85cf9",
   "metadata": {},
   "source": [
    "#### Add your code below following the instructions given in the course\n"
   ]
  },
  {
   "cell_type": "markdown",
   "id": "2a82419b-ec0b-4dad-9205-11c290fab003",
   "metadata": {},
   "source": [
    "# Data Science Tools and Ecosystem"
   ]
  },
  {
   "cell_type": "markdown",
   "id": "5719159b-a091-486f-adb1-d3d07af1373e",
   "metadata": {},
   "source": [
    "In this notebook, the tools and ecosystems of data science are summarized."
   ]
  },
  {
   "cell_type": "markdown",
   "id": "59bdad0b-47c0-4c91-a2c1-fc1aa7793b4e",
   "metadata": {},
   "source": [
    "**Objectives:**\n",
    "- List programming languages for data science\n",
    "- List libraries for data science\n",
    "- List tools for data science\n",
    "- Present examples of arithmetic expressions in Python\n",
    "- Perform arithmetic operations in Python"
   ]
  },
  {
   "cell_type": "markdown",
   "id": "fbab31a7-a6d3-457e-bc17-644df4ee6eca",
   "metadata": {},
   "source": [
    "Some of the popular languages used by data scientists are:\n",
    "1. Python\n",
    "2. R\n",
    "3. Java\n",
    "4. C++\n",
    "5. Julia\n",
    "6. SQL"
   ]
  },
  {
   "cell_type": "markdown",
   "id": "057f8b97-7775-4b16-86cc-dd1160b15825",
   "metadata": {},
   "source": [
    "Some of the libraries commonly used by data scientists include:\n",
    "1. Pandas\n",
    "2. Nunpy\n",
    "3. ggplot2\n",
    "4. caret\n",
    "5. Seaborn\n",
    "6. Scikit-learn"
   ]
  },
  {
   "cell_type": "markdown",
   "id": "51ead320-ae0a-4c87-b82c-dff92c58cf42",
   "metadata": {},
   "source": [
    "| Data Science Tools |\r\n",
    "|----------------------------------|\r\n",
    "| Jupyter                          |\r\n",
    "| Rstudio                          |\r\n",
    "| Apache Spark                     | |"
   ]
  },
  {
   "cell_type": "markdown",
   "id": "5ee50407-a998-4485-ae92-3c887d0a1cb8",
   "metadata": {},
   "source": [
    "### Below are some examples of evaluating arithmetic expressions in Python:\n",
    "\n",
    "```python\r",
    "3 + 5          # Addition: returns 8\r\n",
    "10 - 4         # Subtraction: returns 6\r\n",
    "6 * 7          # Multiplication: returns 42\r\n",
    "20 / 5         # Division: returns 4.0\r\n",
    "2 ** 3         # Exponentiation: returns 8\r\n",
    "10 % 3         # Modulus: returns 1elve 1\r\n",
    "```"
   ]
  },
  {
   "cell_type": "code",
   "execution_count": 16,
   "id": "97aaacdb-8c5a-401f-9a92-0655ed8eb757",
   "metadata": {},
   "outputs": [
    {
     "data": {
      "text/plain": [
       "17"
      ]
     },
     "execution_count": 16,
     "metadata": {},
     "output_type": "execute_result"
    }
   ],
   "source": [
    "# This is a simple arithmetic expression to multiply and then add integers\n",
    "\n",
    "(3*4)+5"
   ]
  },
  {
   "cell_type": "code",
   "execution_count": 17,
   "id": "65c0bf4d-058c-4c42-9c28-d36120629d9a",
   "metadata": {},
   "outputs": [
    {
     "data": {
      "text/plain": [
       "3.3333333333333335"
      ]
     },
     "execution_count": 17,
     "metadata": {},
     "output_type": "execute_result"
    }
   ],
   "source": [
    "# This will convert 200 minutes to hours by dividing by 60.\n",
    "200 / 60"
   ]
  },
  {
   "cell_type": "markdown",
   "id": "73c0a443-a591-41e2-9238-5de4d1e1deb8",
   "metadata": {},
   "source": [
    "## Author\n",
    "Bruno Pérez Sánchez"
   ]
  }
 ],
 "metadata": {
  "kernelspec": {
   "display_name": "Python 3 (ipykernel)",
   "language": "python",
   "name": "python3"
  },
  "language_info": {
   "codemirror_mode": {
    "name": "ipython",
    "version": 3
   },
   "file_extension": ".py",
   "mimetype": "text/x-python",
   "name": "python",
   "nbconvert_exporter": "python",
   "pygments_lexer": "ipython3",
   "version": "3.11.7"
  }
 },
 "nbformat": 4,
 "nbformat_minor": 5
}
